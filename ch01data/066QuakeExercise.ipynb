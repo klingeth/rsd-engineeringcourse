{
 "cells": [
  {
   "cell_type": "markdown",
   "metadata": {},
   "source": [
    "## Exercise/Example: the biggest Earthquake in the UK this Century"
   ]
  },
  {
   "cell_type": "markdown",
   "metadata": {},
   "source": [
    "### The Problem"
   ]
  },
  {
   "cell_type": "markdown",
   "metadata": {},
   "source": [
    "GeoJSON is a json-based file format for sharing geographic data. One example dataset is the USGS earthquake data:"
   ]
  },
  {
   "cell_type": "code",
   "execution_count": 7,
   "metadata": {},
   "outputs": [],
   "source": [
    "import requests\n",
    "quakes=requests.get(\"http://earthquake.usgs.gov/fdsnws/event/1/query.geojson\",\n",
    "                    params={\n",
    "        'starttime':\"2000-01-01\",\n",
    "        \"maxlatitude\":\"58.723\",\n",
    "        \"minlatitude\":\"50.008\",\n",
    "        \"maxlongitude\":\"1.67\",\n",
    "        \"minlongitude\":\"-9.756\",\n",
    "        \"minmagnitude\":\"1\",\n",
    "        \"endtime\":\"2016-10-27\",\n",
    "        \"orderby\":\"time-asc\"}\n",
    "                   )"
   ]
  },
  {
   "cell_type": "code",
   "execution_count": 6,
   "metadata": {},
   "outputs": [
    {
     "data": {
      "text/plain": [
       "'{\"type\":\"FeatureCollection\",\"metadata\":{\"generated\":1477565096000,\"url\":\"http://earthquake.usgs.gov/'"
      ]
     },
     "execution_count": 6,
     "metadata": {},
     "output_type": "execute_result"
    }
   ],
   "source": [
    "quakes.text[0:100]"
   ]
  },
  {
   "cell_type": "markdown",
   "metadata": {},
   "source": [
    "Your exercise: determine the location of the largest magnitude earthquake in the UK this century."
   ]
  },
  {
   "cell_type": "markdown",
   "metadata": {},
   "source": [
    "You'll need to:\n",
    "* Get the text of the web result\n",
    "* Parse the data as JSON\n",
    "* Understand how the data is structured into dictionaries and lists\n",
    "   * Where is the magnitude?\n",
    "   * Where is the place description or coordinates?\n",
    "* Program a search through all the quakes to find the biggest quake.\n",
    "* Find the place of the biggest quake\n",
    "* Form a URL for Google Maps at that latitude and longitude: look back at the introductory example\n",
    "* Display that image"
   ]
  },
  {
   "cell_type": "code",
   "execution_count": 12,
   "metadata": {
    "scrolled": true
   },
   "outputs": [
    {
     "data": {
      "text/plain": [
       "'{\"type\":\"FeatureCollection\",\"metadata\":{\"generated\":1509016600000,\"url\":\"https://earthquake.usgs.gov/fdsnws/event/1/query.geojson?starttime=2000-01-01&maxlatitude=58.723&minlatitude=50.008&maxlongitude=1.67&minlongitude=-9.756&minmagnitude=1&endtime=2016-10-27&orderby=time-asc\",\"title\":\"USGS Earthquakes\",\"status\":200,\"api\":\"1.5.8\",\"count\":111},\"features\":[{\"type\":\"Feature\",\"properties\":{\"mag\":2.6,\"place\":\"England, United Kingdom\",\"time\":956553055700,\"updated\":1415322596133,\"tz\":null,\"url\":\"https'"
      ]
     },
     "execution_count": 12,
     "metadata": {},
     "output_type": "execute_result"
    }
   ],
   "source": [
    "import requests\n",
    "quakes=requests.get(\"http://earthquake.usgs.gov/fdsnws/event/1/query.geojson\",\n",
    "                    params={\n",
    "        'starttime':\"2000-01-01\",\n",
    "        \"maxlatitude\":\"58.723\",\n",
    "        \"minlatitude\":\"50.008\",\n",
    "        \"maxlongitude\":\"1.67\",\n",
    "        \"minlongitude\":\"-9.756\",\n",
    "        \"minmagnitude\":\"1\",\n",
    "        \"endtime\":\"2016-10-27\",\n",
    "        \"orderby\":\"time-asc\"}\n",
    "                   )\n",
    "quakes.text[0:500]"
   ]
  },
  {
   "cell_type": "code",
   "execution_count": 29,
   "metadata": {},
   "outputs": [
    {
     "data": {
      "text/plain": [
       "dict"
      ]
     },
     "execution_count": 29,
     "metadata": {},
     "output_type": "execute_result"
    }
   ],
   "source": [
    "quakeData = json.loads(quakes.text)\n",
    "type(quakeData)"
   ]
  },
  {
   "cell_type": "code",
   "execution_count": 30,
   "metadata": {},
   "outputs": [
    {
     "data": {
      "text/plain": [
       "dict_keys(['type', 'metadata', 'features', 'bbox'])"
      ]
     },
     "execution_count": 30,
     "metadata": {},
     "output_type": "execute_result"
    }
   ],
   "source": [
    "quakeData.keys()"
   ]
  },
  {
   "cell_type": "code",
   "execution_count": 37,
   "metadata": {},
   "outputs": [
    {
     "data": {
      "text/plain": [
       "dict"
      ]
     },
     "execution_count": 37,
     "metadata": {},
     "output_type": "execute_result"
    }
   ],
   "source": [
    "type(quakeData['features'][1])"
   ]
  },
  {
   "cell_type": "code",
   "execution_count": 43,
   "metadata": {},
   "outputs": [
    {
     "data": {
      "text/plain": [
       "2.5"
      ]
     },
     "execution_count": 43,
     "metadata": {},
     "output_type": "execute_result"
    }
   ],
   "source": [
    "quakeData['features'][10]['properties']['mag']"
   ]
  },
  {
   "cell_type": "code",
   "execution_count": 58,
   "metadata": {},
   "outputs": [],
   "source": [
    "tempLargest = 0\n",
    "quakeFeat = quakeData['features']\n",
    "for currQuake in quakeFeat:\n",
    "    if currQuake['properties']['mag'] > tempLargest:\n",
    "        tempLargest = currQuake['properties']['mag']\n",
    "        largestQuake = currQuake\n",
    "        \n",
    "    "
   ]
  },
  {
   "cell_type": "code",
   "execution_count": 59,
   "metadata": {},
   "outputs": [
    {
     "data": {
      "text/plain": [
       "{'geometry': {'coordinates': [-2.15, 52.52, 9.4], 'type': 'Point'},\n",
       " 'id': 'usp000bcxg',\n",
       " 'properties': {'alert': None,\n",
       "  'cdi': None,\n",
       "  'code': 'p000bcxg',\n",
       "  'detail': 'https://earthquake.usgs.gov/fdsnws/event/1/query?eventid=usp000bcxg&format=geojson',\n",
       "  'dmin': None,\n",
       "  'felt': None,\n",
       "  'gap': None,\n",
       "  'ids': ',usp000bcxg,atlas20020922235314,',\n",
       "  'mag': 4.8,\n",
       "  'magType': 'mb',\n",
       "  'mmi': 6.1,\n",
       "  'net': 'us',\n",
       "  'nst': 268,\n",
       "  'place': 'England, United Kingdom',\n",
       "  'rms': None,\n",
       "  'sig': 354,\n",
       "  'sources': ',us,atlas,',\n",
       "  'status': 'reviewed',\n",
       "  'time': 1032738794600,\n",
       "  'title': 'M 4.8 - England, United Kingdom',\n",
       "  'tsunami': 0,\n",
       "  'type': 'earthquake',\n",
       "  'types': ',impact-text,origin,phase-data,shakemap,trump-shakemap,',\n",
       "  'tz': None,\n",
       "  'updated': 1493229637141,\n",
       "  'url': 'https://earthquake.usgs.gov/earthquakes/eventpage/usp000bcxg'},\n",
       " 'type': 'Feature'}"
      ]
     },
     "execution_count": 59,
     "metadata": {},
     "output_type": "execute_result"
    }
   ],
   "source": [
    "tempLargest\n",
    "largestQuake"
   ]
  },
  {
   "cell_type": "code",
   "execution_count": 62,
   "metadata": {},
   "outputs": [
    {
     "data": {
      "text/plain": [
       "[-2.15, 52.52, 9.4]"
      ]
     },
     "execution_count": 62,
     "metadata": {},
     "output_type": "execute_result"
    }
   ],
   "source": [
    "largestQuake['geometry']['coordinates']"
   ]
  },
  {
   "cell_type": "code",
   "execution_count": 74,
   "metadata": {},
   "outputs": [],
   "source": [
    "place=requests.get(\"http://maps.googleapis.com/maps/api/staticmap?\",\n",
    "                   params=dict(\n",
    "                       sensor=str(False).lower(),\n",
    "                       zoom= 10,\n",
    "                       size= '400x400',\n",
    "                       center= '-2.15,52.52'\n",
    "                   )\n",
    "                  )"
   ]
  }
 ],
 "metadata": {
  "jekyll": {
   "display_name": "Earthquakes Exercise"
  },
  "kernelspec": {
   "display_name": "Python 3",
   "language": "python",
   "name": "python3"
  },
  "language_info": {
   "codemirror_mode": {
    "name": "ipython",
    "version": 3
   },
   "file_extension": ".py",
   "mimetype": "text/x-python",
   "name": "python",
   "nbconvert_exporter": "python",
   "pygments_lexer": "ipython3",
   "version": "3.6.2"
  }
 },
 "nbformat": 4,
 "nbformat_minor": 1
}
