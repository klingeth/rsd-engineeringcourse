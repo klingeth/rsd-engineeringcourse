{
 "cells": [
  {
   "cell_type": "markdown",
   "metadata": {},
   "source": [
    "*Use Yaml to save maze structure*"
   ]
  },
  {
   "cell_type": "code",
   "execution_count": 6,
   "metadata": {
    "collapsed": true
   },
   "outputs": [],
   "source": [
    "#my maze:\n",
    "\n",
    "front = {\n",
    "    'name': 'Front Room',\n",
    "    'people': ['James'],\n",
    "    'capacity': 2,\n",
    "    'directions': {\n",
    "        'north': 'kitchen',\n",
    "        'outside': 'garden',\n",
    "        'up' : 'bedroom'\n",
    "        },\n",
    "    'isFull': False\n",
    "}\n",
    "kitchen = {\n",
    "    'name': 'Kitchen',\n",
    "    'people': [],\n",
    "    'capacity': 1,\n",
    "    'directions': {\n",
    "        'south': 'front'\n",
    "    },\n",
    "    'isFull': False    \n",
    "}\n",
    "garden = {\n",
    "    'name': 'Garden',\n",
    "    'people': ['Sue'],\n",
    "    'capacity': 3,\n",
    "    'directions': {\n",
    "        'inside': 'front'\n",
    "    },\n",
    "    'isFull': False    \n",
    "}\n",
    "bedroom = {\n",
    "    'name': 'Bedroom',\n",
    "    'people': [],\n",
    "    'capacity': 2,\n",
    "    'directions': {\n",
    "        'down': 'front',\n",
    "        'jump': 'garden'\n",
    "    },\n",
    "    'isFull': False    \n",
    "}\n",
    "# create myhouse\n",
    "myhouse = {'front': front, 'kitchen': kitchen, 'garden': garden, 'bedroom': bedroom}"
   ]
  },
  {
   "cell_type": "code",
   "execution_count": 15,
   "metadata": {},
   "outputs": [
    {
     "name": "stdout",
     "output_type": "stream",
     "text": [
      "Writing myMaze.yaml\n"
     ]
    }
   ],
   "source": [
    "%%writefile myMaze.yaml\n",
    "    {'front': {'name': 'Front Room', 'people': ['James'], 'capacity': 2, 'directions': {'north': 'kitchen', 'outside': 'garden', 'up': 'bedroom'}, 'isFull': False}, 'kitchen': {'name': 'Kitchen', 'people': [], 'capacity': 1, 'directions': {'south': 'front'}, 'isFull': False}, 'garden': {'name': 'Garden', 'people': ['Sue'], 'capacity': 3, 'directions': {'inside': 'front'}, 'isFull': False}, 'bedroom': {'name': 'Bedroom', 'people': [], 'capacity': 2, 'directions': {'down': 'front', 'jump': 'garden'}, 'isFull': False}}\n",
    "\n"
   ]
  },
  {
   "cell_type": "code",
   "execution_count": 7,
   "metadata": {},
   "outputs": [
    {
     "name": "stdout",
     "output_type": "stream",
     "text": [
      "{'front': {'name': 'Front Room', 'people': ['James'], 'capacity': 2, 'directions': {'north': 'kitchen', 'outside': 'garden', 'up': 'bedroom'}, 'isFull': False}, 'kitchen': {'name': 'Kitchen', 'people': [], 'capacity': 1, 'directions': {'south': 'front'}, 'isFull': False}, 'garden': {'name': 'Garden', 'people': ['Sue'], 'capacity': 3, 'directions': {'inside': 'front'}, 'isFull': False}, 'bedroom': {'name': 'Bedroom', 'people': [], 'capacity': 2, 'directions': {'down': 'front', 'jump': 'garden'}, 'isFull': False}}\n"
     ]
    }
   ],
   "source": [
    "print(myhouse)"
   ]
  },
  {
   "cell_type": "code",
   "execution_count": 13,
   "metadata": {},
   "outputs": [
    {
     "data": {
      "text/plain": [
       "\"    {'front': {'name': 'Front Room', 'people': ['James'], 'capacity': 2, 'directions': {'north': 'kitchen', 'outside': 'garden', 'up': 'bedroom'}, 'isFull': False}, 'kitchen': {'name': 'Kitchen', 'people': [], 'capacity': 1, 'directions': {'south': 'front'}, 'isFull': False}, 'garden': {'name': 'Garden', 'people': ['Sue'], 'capacity': 3, 'directions': {'inside': 'front'}, 'isFull': False}, 'bedroom': {'name': 'Bedroom', 'people': [], 'capacity': 2, 'directions': {'down': 'front', 'jump': 'garden'}, 'isFull': False}}\\n\""
      ]
     },
     "execution_count": 13,
     "metadata": {},
     "output_type": "execute_result"
    }
   ],
   "source": [
    "mydata=open('myMaze.json').read()\n",
    "mydata\n"
   ]
  },
  {
   "cell_type": "code",
   "execution_count": 20,
   "metadata": {},
   "outputs": [
    {
     "data": {
      "text/plain": [
       "'{bedroom: {capacity: 2, directions: {down: front, jump: garden}, isFull: false, name: Bedroom,\\n    people: []}, front: {capacity: 2, directions: {north: kitchen, outside: garden,\\n      up: bedroom}, isFull: false, name: Front Room, people: [James]}, garden: {capacity: 3,\\n    directions: {inside: front}, isFull: false, name: Garden, people: [Sue]}, kitchen: {\\n    capacity: 1, directions: {south: front}, isFull: false, name: Kitchen, people: []}}\\n'"
      ]
     },
     "execution_count": 20,
     "metadata": {},
     "output_type": "execute_result"
    }
   ],
   "source": [
    "import yaml\n",
    "myMazeData=yaml.load(open('myMaze.yaml'))\n",
    "yaml.safe_dump(myMazeData, default_flow_style=True)"
   ]
  }
 ],
 "metadata": {
  "kernelspec": {
   "display_name": "Python 3",
   "language": "python",
   "name": "python3"
  },
  "language_info": {
   "codemirror_mode": {
    "name": "ipython",
    "version": 3
   },
   "file_extension": ".py",
   "mimetype": "text/x-python",
   "name": "python",
   "nbconvert_exporter": "python",
   "pygments_lexer": "ipython3",
   "version": "3.6.3"
  }
 },
 "nbformat": 4,
 "nbformat_minor": 2
}
