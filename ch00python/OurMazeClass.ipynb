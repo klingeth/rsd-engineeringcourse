{
 "cells": [
  {
   "cell_type": "markdown",
   "metadata": {},
   "source": [
    "**Our own solution to the maze using class objects**\n",
    "maze: class, with rooms (class)\n",
    "room: class, with exits (dict) and occupants (class)\n",
    "occupants: class, has a name, can walk to other room\n"
   ]
  },
  {
   "cell_type": "code",
   "execution_count": null,
   "metadata": {
    "collapsed": true
   },
   "outputs": [],
   "source": [
    "class occupant(object):\n",
    "    def __init__(self, name, room = None, favRoom = None):\n",
    "        self.name=name\n",
    "    \n",
    "    def describe(self):\n",
    "        print(self.name, \"is in room: \", self.room.name)\n",
    "        \n",
    "    def changeRoom(self,exit)\n",
    "        "
   ]
  },
  {
   "cell_type": "code",
   "execution_count": null,
   "metadata": {
    "collapsed": true
   },
   "outputs": [],
   "source": [
    "class room(object):\n",
    "    def __init__(self,name,exits,capacity,maze=None):\n",
    "        self.name=name\n",
    "        self.exits=exits # exits is a dict with direction and the room it leads to\n",
    "        self.capacity=capacity\n",
    "        self.occupants = {} # initially the room is empty\n",
    "        self.maze = maze\n",
    "        \n",
    "    def add_occupant():\n",
    "        \n",
    "    "
   ]
  },
  {
   "cell_type": "code",
   "execution_count": null,
   "metadata": {
    "collapsed": true
   },
   "outputs": [],
   "source": []
  }
 ],
 "metadata": {
  "kernelspec": {
   "display_name": "Python 3",
   "language": "python",
   "name": "python3"
  },
  "language_info": {
   "codemirror_mode": {
    "name": "ipython",
    "version": 3
   },
   "file_extension": ".py",
   "mimetype": "text/x-python",
   "name": "python",
   "nbconvert_exporter": "python",
   "pygments_lexer": "ipython3",
   "version": "3.6.2"
  }
 },
 "nbformat": 4,
 "nbformat_minor": 2
}
