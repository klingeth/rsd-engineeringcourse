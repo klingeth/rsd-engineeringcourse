{
 "cells": [
  {
   "cell_type": "code",
   "execution_count": 3,
   "metadata": {
    "collapsed": true
   },
   "outputs": [],
   "source": [
    "#my maze solution\n",
    "\n",
    "front = {\n",
    "    'name': 'Front Room',\n",
    "    'people': ['James'],\n",
    "    'capacity': 2,\n",
    "    'directions': {\n",
    "        'north': 'kitchen',\n",
    "        'outside': 'garden',\n",
    "        'up' : 'bedroom'\n",
    "        },\n",
    "    'isFull': False\n",
    "}\n",
    "kitchen = {\n",
    "    'name': 'Kitchen',\n",
    "    'people': [],\n",
    "    'capacity': 1,\n",
    "    'directions': {\n",
    "        'south': 'front'\n",
    "    },\n",
    "    'isFull': False    \n",
    "}\n",
    "garden = {\n",
    "    'name': 'Garden',\n",
    "    'people': ['Sue'],\n",
    "    'capacity': 3,\n",
    "    'directions': {\n",
    "        'inside': 'front'\n",
    "    },\n",
    "    'isFull': False    \n",
    "}\n",
    "bedroom = {\n",
    "    'name': 'Bedroom',\n",
    "    'people': [],\n",
    "    'capacity': 2,\n",
    "    'directions': {\n",
    "        'down': 'front',\n",
    "        'jump': 'garden'\n",
    "    },\n",
    "    'isFull': False    \n",
    "}\n"
   ]
  },
  {
   "cell_type": "code",
   "execution_count": 4,
   "metadata": {
    "collapsed": true
   },
   "outputs": [],
   "source": [
    "myhouse = {'front': front, 'kitchen': kitchen, 'garden': garden, 'bedroom': bedroom}"
   ]
  },
  {
   "cell_type": "code",
   "execution_count": 6,
   "metadata": {},
   "outputs": [
    {
     "data": {
      "text/plain": [
       "{'bedroom': {'capacity': 2,\n",
       "  'directions': {'down': 'front', 'jump': 'garden'},\n",
       "  'isFull': False,\n",
       "  'name': 'Bedroom',\n",
       "  'people': []},\n",
       " 'front': {'capacity': 2,\n",
       "  'directions': {'north': 'kitchen', 'outside': 'garden', 'up': 'bedroom'},\n",
       "  'isFull': False,\n",
       "  'name': 'Front Room',\n",
       "  'people': ['James']},\n",
       " 'garden': {'capacity': 3,\n",
       "  'directions': {'inside': 'front'},\n",
       "  'isFull': False,\n",
       "  'name': 'Garden',\n",
       "  'people': ['Sue']},\n",
       " 'kitchen': {'capacity': 1,\n",
       "  'directions': {'south': 'front'},\n",
       "  'isFull': False,\n",
       "  'name': 'Kitchen',\n",
       "  'people': []}}"
      ]
     },
     "execution_count": 6,
     "metadata": {},
     "output_type": "execute_result"
    }
   ],
   "source": [
    "myhouse"
   ]
  },
  {
   "cell_type": "code",
   "execution_count": null,
   "metadata": {
    "collapsed": true
   },
   "outputs": [],
   "source": []
  }
 ],
 "metadata": {
  "kernelspec": {
   "display_name": "Python 3",
   "language": "python",
   "name": "python3"
  },
  "language_info": {
   "codemirror_mode": {
    "name": "ipython",
    "version": 3
   },
   "file_extension": ".py",
   "mimetype": "text/x-python",
   "name": "python",
   "nbconvert_exporter": "python",
   "pygments_lexer": "ipython3",
   "version": "3.6.3"
  }
 },
 "nbformat": 4,
 "nbformat_minor": 2
}
