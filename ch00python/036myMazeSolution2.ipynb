{
 "cells": [
  {
   "cell_type": "markdown",
   "metadata": {},
   "source": [
    "### Classroom exercise: the Maze Population\n",
    "Take your maze data structure. Write a program to count the total number of people in the maze, and also determine the total possible occupants."
   ]
  },
  {
   "cell_type": "code",
   "execution_count": 7,
   "metadata": {
    "collapsed": true
   },
   "outputs": [],
   "source": [
    "#my maze:\n",
    "\n",
    "front = {\n",
    "    'name': 'Front Room',\n",
    "    'people': ['James'],\n",
    "    'capacity': 2,\n",
    "    'directions': {\n",
    "        'north': 'kitchen',\n",
    "        'outside': 'garden',\n",
    "        'up' : 'bedroom'\n",
    "        },\n",
    "    'isFull': False\n",
    "}\n",
    "kitchen = {\n",
    "    'name': 'Kitchen',\n",
    "    'people': [],\n",
    "    'capacity': 1,\n",
    "    'directions': {\n",
    "        'south': 'front'\n",
    "    },\n",
    "    'isFull': False    \n",
    "}\n",
    "garden = {\n",
    "    'name': 'Garden',\n",
    "    'people': ['Sue'],\n",
    "    'capacity': 3,\n",
    "    'directions': {\n",
    "        'inside': 'front'\n",
    "    },\n",
    "    'isFull': False    \n",
    "}\n",
    "bedroom = {\n",
    "    'name': 'Bedroom',\n",
    "    'people': [],\n",
    "    'capacity': 2,\n",
    "    'directions': {\n",
    "        'down': 'front',\n",
    "        'jump': 'garden'\n",
    "    },\n",
    "    'isFull': False    \n",
    "}\n",
    "# create myhouse\n",
    "myhouse = {'front': front, 'kitchen': kitchen, 'garden': garden, 'bedroom': bedroom}"
   ]
  },
  {
   "cell_type": "code",
   "execution_count": 37,
   "metadata": {},
   "outputs": [
    {
     "name": "stdout",
     "output_type": "stream",
     "text": [
      "Front Room has 1 of 2 occupants\n",
      "Kitchen has 0 of 1 occupants\n",
      "Garden has 1 of 3 occupants\n",
      "Bedroom has 0 of 2 occupants\n",
      "total number of occupants:  2\n",
      "total capacity:  8\n"
     ]
    }
   ],
   "source": [
    "# count the number of occupants in the maze\n",
    "counter = 0\n",
    "capacity = 0\n",
    "# loop over all rooms\n",
    "for currRoom in myhouse:\n",
    " #   print(currRoom['name'])\n",
    "    counter += len(myhouse[currRoom]['people'])\n",
    "    capacity += myhouse[currRoom]['capacity']\n",
    "    print(myhouse[currRoom]['name'], 'has', len(myhouse[currRoom]['people']), 'of', myhouse[currRoom]['capacity'], 'occupants')\n",
    "    \n",
    "#myhouse.items()\n",
    "print('total number of occupants: ', counter)\n",
    "print('total capacity: ', capacity)"
   ]
  },
  {
   "cell_type": "code",
   "execution_count": null,
   "metadata": {},
   "outputs": [],
   "source": [
    "\n"
   ]
  },
  {
   "cell_type": "code",
   "execution_count": null,
   "metadata": {
    "collapsed": true
   },
   "outputs": [],
   "source": []
  }
 ],
 "metadata": {
  "kernelspec": {
   "display_name": "Python 3",
   "language": "python",
   "name": "python3"
  },
  "language_info": {
   "codemirror_mode": {
    "name": "ipython",
    "version": 3
   },
   "file_extension": ".py",
   "mimetype": "text/x-python",
   "name": "python",
   "nbconvert_exporter": "python",
   "pygments_lexer": "ipython3",
   "version": "3.6.2"
  }
 },
 "nbformat": 4,
 "nbformat_minor": 2
}
