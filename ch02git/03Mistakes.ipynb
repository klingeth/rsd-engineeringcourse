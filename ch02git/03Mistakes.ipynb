{
 "cells": [
  {
   "cell_type": "markdown",
   "metadata": {},
   "source": [
    "## Fixing mistakes"
   ]
  },
  {
   "cell_type": "markdown",
   "metadata": {},
   "source": [
    "We're still in our git working directory:"
   ]
  },
  {
   "cell_type": "code",
   "execution_count": 1,
   "metadata": {},
   "outputs": [
    {
     "data": {
      "text/plain": [
       "'C:\\\\Users\\\\t_kin\\\\Documents\\\\GitHub\\\\rsd-engineeringcourse\\\\ch02git\\\\learning_git\\\\git_example'"
      ]
     },
     "execution_count": 1,
     "metadata": {},
     "output_type": "execute_result"
    }
   ],
   "source": [
    "import os\n",
    "top_dir = os.getcwd()\n",
    "git_dir = os.path.join(top_dir, 'learning_git')\n",
    "working_dir=os.path.join(git_dir, 'git_example')\n",
    "os.chdir(working_dir)\n",
    "working_dir"
   ]
  },
  {
   "cell_type": "markdown",
   "metadata": {},
   "source": [
    "### Referring to changes with HEAD and ^\n",
    "\n",
    "The commit we want to revert to is the one before the latest.\n",
    "\n",
    "`HEAD^` refers to the commit before the \"head\", which is the latest change. That is, we want to go back to the change before the current one. \n",
    "\n",
    "We could have used the hash code to reference this, but you can also refer to the commit before the `HEAD` as `HEAD^`, the one before that as `HEAD^^`, the one before that as `HEAD~3`. We could also refer to it with the hash code, e.g. 73fbeaf"
   ]
  },
  {
   "cell_type": "markdown",
   "metadata": {},
   "source": [
    "### Reverting\n",
    " \n",
    "Ok, so now we'd like to undo the nasty commit with the lie about Mount Fictional."
   ]
  },
  {
   "cell_type": "code",
   "execution_count": 2,
   "metadata": {},
   "outputs": [
    {
     "name": "stdout",
     "output_type": "stream",
     "text": [
      "[master e53bc9a] Revert \"Add a lie about a mountain\"\n",
      " 1 file changed, 1 insertion(+), 3 deletions(-)\n"
     ]
    }
   ],
   "source": [
    "%%bash\n",
    "git revert HEAD^"
   ]
  },
  {
   "cell_type": "markdown",
   "metadata": {},
   "source": [
    "A commit may pop up, with some default text which you can accept and save. "
   ]
  },
  {
   "cell_type": "markdown",
   "metadata": {},
   "source": [
    "### Conflicted reverts\n",
    "\n",
    "You may, depending on the changes you've tried to make, get an error message here. \n",
    "\n",
    "If this happens, it is because git could not automagically decide how to combine the change you made after the change you want to revert, with the attempt to revert the change: this could happen, for example, if they both touch the same line. \n",
    "\n",
    "If that happens, you need to manually edit the file to fix the problem. Skip ahead to the section on resolving conflicts, or ask a demonstrator to help."
   ]
  },
  {
   "cell_type": "markdown",
   "metadata": {},
   "source": [
    "### Review of changes\n",
    "\n",
    "The file should now contain the change to the title, but not the extra line with the lie. Note the log:"
   ]
  },
  {
   "cell_type": "code",
   "execution_count": 3,
   "metadata": {},
   "outputs": [
    {
     "name": "stdout",
     "output_type": "stream",
     "text": [
      "commit e53bc9a6c3b8994c5b444d7494e2cb564aff8d47\n",
      "Author: Thomas Klinge <thomas.klinge17@ucl.ac.uk>\n",
      "Date:   2018-04-22\n",
      "\n",
      "    Revert \"Add a lie about a mountain\"\n",
      "    \n",
      "    This reverts commit 2a1791407baa5cfd1c5aa5472afc274c8689efbe.\n",
      "\n",
      "commit a1cae97647313481646bc7d0dbd46c62f7b59d04\n",
      "Author: Thomas Klinge <thomas.klinge17@ucl.ac.uk>\n",
      "Date:   2018-04-22\n",
      "\n",
      "    Change title\n",
      "\n",
      "commit 2a1791407baa5cfd1c5aa5472afc274c8689efbe\n",
      "Author: Thomas Klinge <thomas.klinge17@ucl.ac.uk>\n",
      "Date:   2018-04-22\n",
      "\n",
      "    Add a lie about a mountain\n",
      "\n",
      "commit 750ef98d8095ccb7c7a30ef0defd6291269ad37a\n",
      "Author: Thomas Klinge <thomas.klinge17@ucl.ac.uk>\n",
      "Date:   2018-04-22\n",
      "\n",
      "    First commit of discourse on UK topography\n"
     ]
    }
   ],
   "source": [
    "%%bash\n",
    "git log --date=short"
   ]
  },
  {
   "cell_type": "markdown",
   "metadata": {},
   "source": [
    "### Antipatch\n",
    "\n",
    "Notice how the mistake has stayed in the history.\n",
    "\n",
    "There is a new commit which undoes the change: this is colloquially called an \"antipatch\". \n",
    "This is nice: you have a record of the full story, including the mistake and its correction."
   ]
  },
  {
   "cell_type": "markdown",
   "metadata": {},
   "source": [
    "### Rewriting history\n",
    "\n",
    "It is possible, in git, to remove the most recent change altogether, \"rewriting history\". Let's make another bad change, and see how to do this."
   ]
  },
  {
   "cell_type": "markdown",
   "metadata": {},
   "source": [
    "### A new lie"
   ]
  },
  {
   "cell_type": "code",
   "execution_count": 4,
   "metadata": {},
   "outputs": [
    {
     "name": "stdout",
     "output_type": "stream",
     "text": [
      "Overwriting index.md\n"
     ]
    }
   ],
   "source": [
    "%%writefile index.md\n",
    "Mountains and Hills in the UK   \n",
    "===================   \n",
    "Engerland is not very mountainous.   \n",
    "But has some tall hills, and maybe a\n",
    "mountain or two depending on your definition.\n"
   ]
  },
  {
   "cell_type": "code",
   "execution_count": 5,
   "metadata": {
    "attributes": {
     "classes": [
      " Bash"
     ],
     "id": ""
    }
   },
   "outputs": [
    {
     "name": "stdout",
     "output_type": "stream",
     "text": [
      "Mountains and Hills in the UK   \r\n",
      "===================   \r\n",
      "Engerland is not very mountainous.   \r\n",
      "But has some tall hills, and maybe a\r\n",
      "mountain or two depending on your definition."
     ]
    }
   ],
   "source": [
    "%%bash\n",
    "cat index.md"
   ]
  },
  {
   "cell_type": "code",
   "execution_count": 6,
   "metadata": {},
   "outputs": [
    {
     "name": "stdout",
     "output_type": "stream",
     "text": [
      "diff --git a/index.md b/index.md\n",
      "index bb12a24..6f211e7 100644\n",
      "--- a/index.md\n",
      "+++ b/index.md\n",
      "@@ -1,4 +1,5 @@\n",
      " Mountains and Hills in the UK   \n",
      " ===================   \n",
      "-England is not very mountainous.   \n",
      "-But has some tall hills, and maybe a mountain or two depending on your definition.\n",
      "\\ No newline at end of file\n",
      "+Engerland is not very mountainous.   \n",
      "+But has some tall hills, and maybe a\n",
      "+mountain or two depending on your definition.\n",
      "\\ No newline at end of file\n"
     ]
    }
   ],
   "source": [
    "%%bash\n",
    "git diff"
   ]
  },
  {
   "cell_type": "code",
   "execution_count": 7,
   "metadata": {},
   "outputs": [
    {
     "name": "stdout",
     "output_type": "stream",
     "text": [
      "[master f0201f8] Add a silly spelling\n",
      " 1 file changed, 3 insertions(+), 2 deletions(-)\n"
     ]
    }
   ],
   "source": [
    "%%bash\n",
    "git commit -am \"Add a silly spelling\""
   ]
  },
  {
   "cell_type": "code",
   "execution_count": 8,
   "metadata": {
    "attributes": {
     "classes": [
      " Bash"
     ],
     "id": ""
    }
   },
   "outputs": [
    {
     "name": "stdout",
     "output_type": "stream",
     "text": [
      "commit f0201f8abeea1945522ad129de4c2759c16a85b7\n",
      "Author: Thomas Klinge <thomas.klinge17@ucl.ac.uk>\n",
      "Date:   2018-04-22\n",
      "\n",
      "    Add a silly spelling\n",
      "\n",
      "commit e53bc9a6c3b8994c5b444d7494e2cb564aff8d47\n",
      "Author: Thomas Klinge <thomas.klinge17@ucl.ac.uk>\n",
      "Date:   2018-04-22\n",
      "\n",
      "    Revert \"Add a lie about a mountain\"\n",
      "    \n",
      "    This reverts commit 2a1791407baa5cfd1c5aa5472afc274c8689efbe.\n",
      "\n",
      "commit a1cae97647313481646bc7d0dbd46c62f7b59d04\n",
      "Author: Thomas Klinge <thomas.klinge17@ucl.ac.uk>\n",
      "Date:   2018-04-22\n",
      "\n",
      "    Change title\n",
      "\n",
      "commit 2a1791407baa5cfd1c5aa5472afc274c8689efbe\n",
      "Author: Thomas Klinge <thomas.klinge17@ucl.ac.uk>\n",
      "Date:   2018-04-22\n",
      "\n",
      "    Add a lie about a mountain\n",
      "\n",
      "commit 750ef98d8095ccb7c7a30ef0defd6291269ad37a\n",
      "Author: Thomas Klinge <thomas.klinge17@ucl.ac.uk>\n",
      "Date:   2018-04-22\n",
      "\n",
      "    First commit of discourse on UK topography\n"
     ]
    }
   ],
   "source": [
    "%%bash\n",
    "git log --date=short"
   ]
  },
  {
   "cell_type": "markdown",
   "metadata": {},
   "source": [
    "### Using reset to rewrite history"
   ]
  },
  {
   "cell_type": "code",
   "execution_count": 9,
   "metadata": {
    "attributes": {
     "classes": [
      " Bash"
     ],
     "id": ""
    }
   },
   "outputs": [
    {
     "name": "stdout",
     "output_type": "stream",
     "text": [
      "Unstaged changes after reset:\n",
      "M\tindex.md\n"
     ]
    }
   ],
   "source": [
    "%%bash\n",
    "git reset HEAD^"
   ]
  },
  {
   "cell_type": "code",
   "execution_count": 10,
   "metadata": {
    "attributes": {
     "classes": [
      " Bash"
     ],
     "id": ""
    }
   },
   "outputs": [
    {
     "name": "stdout",
     "output_type": "stream",
     "text": [
      "commit e53bc9a6c3b8994c5b444d7494e2cb564aff8d47\n",
      "Author: Thomas Klinge <thomas.klinge17@ucl.ac.uk>\n",
      "Date:   2018-04-22\n",
      "\n",
      "    Revert \"Add a lie about a mountain\"\n",
      "    \n",
      "    This reverts commit 2a1791407baa5cfd1c5aa5472afc274c8689efbe.\n",
      "\n",
      "commit a1cae97647313481646bc7d0dbd46c62f7b59d04\n",
      "Author: Thomas Klinge <thomas.klinge17@ucl.ac.uk>\n",
      "Date:   2018-04-22\n",
      "\n",
      "    Change title\n",
      "\n",
      "commit 2a1791407baa5cfd1c5aa5472afc274c8689efbe\n",
      "Author: Thomas Klinge <thomas.klinge17@ucl.ac.uk>\n",
      "Date:   2018-04-22\n",
      "\n",
      "    Add a lie about a mountain\n",
      "\n",
      "commit 750ef98d8095ccb7c7a30ef0defd6291269ad37a\n",
      "Author: Thomas Klinge <thomas.klinge17@ucl.ac.uk>\n",
      "Date:   2018-04-22\n",
      "\n",
      "    First commit of discourse on UK topography\n"
     ]
    }
   ],
   "source": [
    "%%bash\n",
    "git log --date=short"
   ]
  },
  {
   "cell_type": "markdown",
   "metadata": {},
   "source": [
    "### Covering your tracks\n",
    "\n",
    "The silly spelling is gone, and *it isn't even in the log*. This approach to fixing mistakes, \"rewriting history\" with `reset`, instead of adding an antipatch with `revert` is dangerous, and we don't recommend it. But you may want to do it for small silly mistakes, such as to correct a commit message."
   ]
  },
  {
   "cell_type": "markdown",
   "metadata": {},
   "source": [
    "### Resetting the working area\n",
    "\n",
    "When git reset removes commits, it leaves your working directory unchanged -- so you can keep the work in the bad change if you want. "
   ]
  },
  {
   "cell_type": "code",
   "execution_count": 11,
   "metadata": {},
   "outputs": [
    {
     "name": "stdout",
     "output_type": "stream",
     "text": [
      "Mountains and Hills in the UK   \r\n",
      "===================   \r\n",
      "Engerland is not very mountainous.   \r\n",
      "But has some tall hills, and maybe a\r\n",
      "mountain or two depending on your definition."
     ]
    }
   ],
   "source": [
    "%%bash\n",
    "cat index.md"
   ]
  },
  {
   "cell_type": "markdown",
   "metadata": {},
   "source": [
    "If you want to lose the change from the working directory as well, you can do `git reset --hard`. \n",
    "\n",
    "I'm going to get rid of the silly spelling, and I didn't do `--hard`, so I'll reset the file from the working directory to be the same as in the index:"
   ]
  },
  {
   "cell_type": "code",
   "execution_count": 12,
   "metadata": {
    "attributes": {
     "classes": [
      " Bash"
     ],
     "id": ""
    },
    "collapsed": true
   },
   "outputs": [],
   "source": [
    "%%bash\n",
    "git checkout index.md"
   ]
  },
  {
   "cell_type": "code",
   "execution_count": 13,
   "metadata": {},
   "outputs": [
    {
     "name": "stdout",
     "output_type": "stream",
     "text": [
      "Mountains and Hills in the UK   \r\n",
      "===================   \r\n",
      "England is not very mountainous.   \r\n",
      "But has some tall hills, and maybe a mountain or two depending on your definition."
     ]
    }
   ],
   "source": [
    "%%bash\n",
    "cat index.md"
   ]
  },
  {
   "cell_type": "markdown",
   "metadata": {},
   "source": [
    "We can add this to our diagram:"
   ]
  },
  {
   "cell_type": "code",
   "execution_count": 14,
   "metadata": {},
   "outputs": [
    {
     "data": {
      "image/png": "[encoded data removed]",
      "text/plain": [
       "<IPython.core.display.Image object>"
      ]
     },
     "execution_count": 14,
     "metadata": {},
     "output_type": "execute_result"
    }
   ],
   "source": [
    "message=\"\"\"\n",
    "Working Directory -> Staging Area : git add\n",
    "Staging Area -> Local Repository : git commit\n",
    "Working Directory -> Local Repository : git commit -a\n",
    "Staging Area -> Working Directory : git checkout\n",
    "Local Repository -> Staging Area : git reset\n",
    "Local Repository -> Working Directory: git reset --hard\n",
    "\"\"\"\n",
    "from wsd import wsd\n",
    "%matplotlib inline\n",
    "wsd(message)"
   ]
  },
  {
   "cell_type": "markdown",
   "metadata": {},
   "source": [
    "We can add it to Jim's story:"
   ]
  },
  {
   "cell_type": "code",
   "execution_count": 15,
   "metadata": {},
   "outputs": [
    {
     "data": {
      "image/png": "[encoded data removed]",
      "text/plain": [
       "<IPython.core.display.Image object>"
      ]
     },
     "execution_count": 15,
     "metadata": {},
     "output_type": "execute_result"
    }
   ],
   "source": [
    "message=\"\"\"\n",
    "participant \"Jim's repo\" as R\n",
    "participant \"Jim's index\" as I\n",
    "participant Jim as J\n",
    "\n",
    "note right of J: git revert HEAD^\n",
    "\n",
    "J->R: Add new commit reversing change\n",
    "R->I: update staging area to reverted version\n",
    "I->J: update file to reverted version\n",
    "\n",
    "\n",
    "\n",
    "note right of J: vim index.md\n",
    "note right of J: git commit -am \"Add another mistake\"\n",
    "J->I: Add mistake\n",
    "I->R: Add mistake\n",
    "\n",
    "note right of J: git reset HEAD^\n",
    "\n",
    "J->R: Delete mistaken commit\n",
    "R->I: Update staging area to reset commit\n",
    "\n",
    "note right of J: git checkout index.md\n",
    "\n",
    "I->J: Update file to reverted version\n",
    "\n",
    "\n",
    "\"\"\"\n",
    "wsd(message)"
   ]
  },
  {
   "cell_type": "code",
   "execution_count": null,
   "metadata": {
    "collapsed": true
   },
   "outputs": [],
   "source": []
  }
 ],
 "metadata": {
  "jekyll": {
   "display_name": "Fixing Mistakes"
  },
  "kernelspec": {
   "display_name": "Python 3",
   "language": "python",
   "name": "python3"
  },
  "language_info": {
   "codemirror_mode": {
    "name": "ipython",
    "version": 3
   },
   "file_extension": ".py",
   "mimetype": "text/x-python",
   "name": "python",
   "nbconvert_exporter": "python",
   "pygments_lexer": "ipython3",
   "version": "3.6.3"
  }
 },
 "nbformat": 4,
 "nbformat_minor": 1
}
